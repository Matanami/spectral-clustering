{
 "cells": [
  {
   "cell_type": "code",
   "execution_count": 38,
   "metadata": {},
   "outputs": [
    {
     "name": "stdout",
     "output_type": "stream",
     "text": [
      "[[4 5 6]\n",
      " [7 8 9]]\n",
      "[1 2 3]\n"
     ]
    }
   ],
   "source": [
    "import numpy as np\n",
    "\n",
    "test_array = np.array([[1,2,3], [4,5,6], [7,8,9]])\n",
    "\n",
    "np.random.seed(0)\n",
    "first_centroid_index = np.random.choice(len(test_array))\n",
    "\n",
    "centroids_arr = test_array[first_centroid_index]\n",
    "test_array = np.delete(test_array, first_centroid_index, 0)\n",
    "\n",
    "print(test_array)\n",
    "print(centroids_arr)\n"
   ]
  },
  {
   "cell_type": "code",
   "execution_count": 41,
   "metadata": {},
   "outputs": [
    {
     "ename": "SyntaxError",
     "evalue": "unexpected EOF while parsing (1003577456.py, line 17)",
     "output_type": "error",
     "traceback": [
      "\u001b[0;36m  Cell \u001b[0;32mIn[41], line 17\u001b[0;36m\u001b[0m\n\u001b[0;31m    \u001b[0m\n\u001b[0m    ^\u001b[0m\n\u001b[0;31mSyntaxError\u001b[0m\u001b[0;31m:\u001b[0m unexpected EOF while parsing\n"
     ]
    }
   ],
   "source": [
    "import pandas as pd\n",
    "\n",
    "test_df = pd.DataFrame([[1,2,3], [4,5,6], [7,8,9], [71,81,91]])\n",
    "\n",
    "first_cen_index = np.random.choice(len(test_df))\n",
    "\n",
    "# test_df[\"sum\"] = test_df.sum(axis=1)\n",
    "# np.linalg.norm(test_df[0])\n",
    "#  test_df[\"min_dist\"] = test_df.apply(lambda row: )\n",
    "\n",
    "a = [[12, 13, 14], [6,7,8]]\n",
    "test_df[\"distance\"] = test_df.apply(lambda row: min(np.linalg.norm(i - row) for i in a), axis=1) # 2\n",
    "test_df[\"ratio\"] = test_df[\"distance\"] / sum(test_df[\"distance\"])                # 3\n",
    "print(test_df)\n",
    "print(\"------\")\n",
    "print(np.random.choice(len(test_df), list(test_df[\"ratio\"])))\n",
    "\n"
   ]
  },
  {
   "cell_type": "code",
   "execution_count": 4,
   "metadata": {},
   "outputs": [
    {
     "name": "stdout",
     "output_type": "stream",
     "text": [
      "(array([0.58578644, 2.        , 3.41421356]), array([[-5.00000000e-01, -7.07106781e-01,  5.00000000e-01],\n",
      "       [-7.07106781e-01,  4.37150316e-16, -7.07106781e-01],\n",
      "       [-5.00000000e-01,  7.07106781e-01,  5.00000000e-01]]))\n",
      "[[-1  1  0]\n",
      " [ 1 -2  1]\n",
      " [ 0  1 -1]]\n",
      "(array([1.66642861e-01, 1.47805484e+00, 3.71014914e+01, 2.58525381e+03]), array([[-0.79260829, -0.5820757 ,  0.17918629, -0.02919332],\n",
      "       [-0.45192312,  0.37050219, -0.74191779,  0.32871206],\n",
      "       [-0.3224164 ,  0.50957863,  0.10022814, -0.79141115],\n",
      "       [-0.25216117,  0.51404827,  0.63828253,  0.51455275]]))\n"
     ]
    }
   ],
   "source": [
    "from numpy import linalg, array\n",
    "from scipy.sparse import csgraph\n",
    "\n",
    "a = array([[2, -1, 0], [-1, 2, -1], [0, -1, 2], [-1, 2, -1], [0, -1, 2]])\n",
    "\n",
    "print(linalg.eigh([[2, -1, 0], [-1, 2, -1], [0, -1, 2]]))\n",
    "\n",
    "print(csgraph.laplacian(a))\n",
    "\n",
    "# from wiki\n",
    "print(linalg.eigh([[4, -30, 60, -35], [-30, 300, -675, 420], [60, -675, 1620, -1050], [-35, 420, -1050, 700]]))\n",
    "\n",
    "\n"
   ]
  }
 ],
 "metadata": {
  "kernelspec": {
   "display_name": "Python 3",
   "language": "python",
   "name": "python3"
  },
  "language_info": {
   "codemirror_mode": {
    "name": "ipython",
    "version": 3
   },
   "file_extension": ".py",
   "mimetype": "text/x-python",
   "name": "python",
   "nbconvert_exporter": "python",
   "pygments_lexer": "ipython3",
   "version": "3.8.10"
  },
  "orig_nbformat": 4,
  "vscode": {
   "interpreter": {
    "hash": "916dbcbb3f70747c44a77c7bcd40155683ae19c65e1c03b4aa3499c5328201f1"
   }
  }
 },
 "nbformat": 4,
 "nbformat_minor": 2
}
